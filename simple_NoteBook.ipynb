{
 "cells": [
  {
   "cell_type": "markdown",
   "metadata": {},
   "source": [
    "<center>\n",
    "    <img src=\"https://cf-courses-data.s3.us.cloud-object-storage.appdomain.cloud/IBMDeveloperSkillsNetwork-DS0105EN-SkillsNetwork/labs/Module2/images/SN_web_lightmode.png\" width=\"300\" alt=\"cognitiveclass.ai logo\">\n",
    "</center>\n"
   ]
  },
  {
   "cell_type": "markdown",
   "metadata": {},
   "source": [
    "# Assignment of Tools for Data Science course"
   ]
  },
  {
   "cell_type": "markdown",
   "metadata": {},
   "source": [
    "### this is sample of notebook working with **Markdown** and **Pythone Code** :"
   ]
  },
  {
   "cell_type": "markdown",
   "metadata": {},
   "source": [
    "## Data science languages :\n",
    "* Pyhtone\n",
    "* R\n",
    "* SQL\n",
    "* Java\n",
    "* Scala\n",
    "* Julia\n",
    "* JS\n",
    "* c++"
   ]
  },
  {
   "cell_type": "markdown",
   "metadata": {},
   "source": [
    "## Data science libraries\n",
    "### pythone:\n",
    "####  for Scientific computing:\n",
    "* Numpy\n",
    "* Pandas\n",
    "* matplotlib\n",
    "* Scipy\n",
    "\n",
    "####  for artificial intelligence:\n",
    "* pytorch\n",
    "* TensorFlow\n",
    "* Keras\n",
    "* Scikit learn\n",
    "\n"
   ]
  },
  {
   "cell_type": "markdown",
   "metadata": {},
   "source": [
    "\n",
    "## Data Science tools: \n",
    "\n",
    "### Data Management\n",
    "\n",
    "| Open Source   | Commercial  | Cloud Based  |\n",
    "| -------- | -------- | -------- |\n",
    "| MySQL | Oracle |CouchDB |\n",
    "| PostgreSQL |Sql Server | DB |\n",
    "| MongoDB | IBM DB2 | Cloudant |\n",
    "| Apache CouchDBL |  | Amazon DynamoDB |\n",
    "| Apache Cassandra |  |  |\n",
    "| Hadoop File System  | | |\n",
    "\n",
    "### Data Integration and Transformation\n",
    "\n",
    "| Open Source   | Commercial  | Cloud Based  |\n",
    "| -------- | -------- | -------- |\n",
    "| Apache AirFlow | Informatica |Informatica Cloud Data Integration  |\n",
    "| KubeFlow |IBM InfoSphere DataStage  | IBM’s Data Refinery |\n",
    "| Apache Kafka | IBM Watson Studio  |  |\n",
    "| Apache Nifi |  |  |\n",
    "| Apache SparkSQL  |  |  |\n",
    "| NodeRED  | | |\n",
    "\n",
    "\n",
    "### Data Visualization\n",
    "\n",
    "| Open Source   | Commercial  | Cloud Based  |\n",
    "| -------- | -------- | -------- |\n",
    "| Hue | Power BI | DataMeer |\n",
    "| Apache Superset  | Tableau  |  IBM Cognos Analytics |\n",
    "| Kibana | IBM Cognos Analytics | IBM Watson Studio |\n",
    "|   | IBM Watson Studio  |  |\n",
    "\n",
    "\n",
    "### Model Building\n",
    "\n",
    "| Commercial  | Cloud Based  |\n",
    "| -------- | -------- |\n",
    "| SPSS  | IBM Watson Machine Learning |\n",
    "| SAS   |  Google cload |\n",
    "| IBM Watson Studio |  |\n",
    "\n",
    "### Model deployment\n",
    "\n",
    "| Open Source   | Commercial  | Cloud Based  |\n",
    "| -------- | -------- | -------- |\n",
    "| Apache PredictionIO  | SPSS Modeler  | IMB Watson Machine Learning  |\n",
    "| Seldon   |   |   |\n",
    "| MLeap |  |  |\n",
    "| TensorFlow service  |   |  |\n",
    "| TensorFlow Lite  |   |  |\n",
    "| TensorFlow.JS  |   |  |\n",
    "\n",
    "### Code asset management\n",
    "\n",
    "| Open Source |\n",
    "| ----------- |\n",
    "| Git    | \n",
    "| GitLab | \n",
    "|GitHub  | \n",
    "\n",
    "### Data asset management\n",
    "\n",
    "| Open Source  | Commercial  | \n",
    "| ------------ | ----------- | \n",
    "| Apache Atlas  | Informatica   | \n",
    "| ODPi Egeria   | IBM InfoSphere Information Governance Catalog |    \n",
    "| Kylo  |  |  \n",
    "\n",
    "\n",
    "### Development environments\n",
    "\n",
    "| Open Source  | Commercial  | \n",
    "| ------------ | ----------- | \n",
    "| R Studio     | IBM Watson Studio   | \n",
    "| Jupytor Lab      |  |    \n",
    "| Spyder           |  |  \n",
    "| Apache Zeppelin  |  |  \n",
    "\n",
    "### Execution environments\n",
    "\n",
    "| Open Source  | \n",
    "| ------------ | \n",
    "| Apache Spark   |\n",
    "| flink          |     \n",
    "| riselab        |  \n",
    "\n",
    "### fully integrated, visual tooling\n",
    "\n",
    "| Open Source | Commercial  | Cloud Based  |\n",
    "| ----------- | ----------- | ------------ |\n",
    "| KNIME  | Watson studion |  Watson studion  |\n",
    "| Orange |  H2O  |  Azure Machine learning   |\n",
    "|        |       |  H2O                      |\n",
    "\n",
    "\n"
   ]
  },
  {
   "cell_type": "markdown",
   "metadata": {},
   "source": [
    "## Arithmetic expression examples"
   ]
  },
  {
   "cell_type": "code",
   "execution_count": 4,
   "metadata": {},
   "outputs": [
    {
     "data": {
      "text/plain": [
       "7"
      ]
     },
     "execution_count": 4,
     "metadata": {},
     "output_type": "execute_result"
    }
   ],
   "source": [
    "x = 1+2 *3\n",
    "x"
   ]
  },
  {
   "cell_type": "code",
   "execution_count": 5,
   "metadata": {},
   "outputs": [
    {
     "data": {
      "text/plain": [
       "24"
      ]
     },
     "execution_count": 5,
     "metadata": {},
     "output_type": "execute_result"
    }
   ],
   "source": [
    "y = (1+2)*(3+5)\n",
    "y\n"
   ]
  },
  {
   "cell_type": "markdown",
   "metadata": {},
   "source": [
    "## Convert minute to hour"
   ]
  },
  {
   "cell_type": "code",
   "execution_count": 7,
   "metadata": {},
   "outputs": [
    {
     "name": "stdout",
     "output_type": "stream",
     "text": [
      "9.15\n"
     ]
    }
   ],
   "source": [
    "minutes = 549\n",
    "hours = minutes / 60\n",
    "print(hours)\n"
   ]
  },
  {
   "cell_type": "code",
   "execution_count": 8,
   "metadata": {},
   "outputs": [
    {
     "name": "stdout",
     "output_type": "stream",
     "text": [
      "9 hours and 9 minutes\n"
     ]
    }
   ],
   "source": [
    "total_minutes = 549\n",
    "hours, minutes = divmod(total_minutes, 60)\n",
    "print(f\"{hours} hours and {minutes} minutes\")"
   ]
  },
  {
   "cell_type": "markdown",
   "metadata": {},
   "source": [
    "## Unordered list"
   ]
  },
  {
   "cell_type": "code",
   "execution_count": 15,
   "metadata": {},
   "outputs": [
    {
     "data": {
      "text/plain": [
       "[10, 'a', 20, 'bc', ('a', 'b', 'c'), [1, 2, ['a', 'b']]]"
      ]
     },
     "execution_count": 15,
     "metadata": {},
     "output_type": "execute_result"
    }
   ],
   "source": [
    "list1 = [10,\"a\",20,\"bc\", (\"a\",\"b\",\"c\"), [1,2,[\"a\",\"b\"]]]\n",
    "list1"
   ]
  },
  {
   "cell_type": "code",
   "execution_count": 16,
   "metadata": {},
   "outputs": [
    {
     "data": {
      "text/plain": [
       "20"
      ]
     },
     "execution_count": 16,
     "metadata": {},
     "output_type": "execute_result"
    }
   ],
   "source": [
    "list1[2]"
   ]
  },
  {
   "cell_type": "code",
   "execution_count": 17,
   "metadata": {},
   "outputs": [
    {
     "data": {
      "text/plain": [
       "'b'"
      ]
     },
     "execution_count": 17,
     "metadata": {},
     "output_type": "execute_result"
    }
   ],
   "source": [
    "list1[4][1]"
   ]
  },
  {
   "cell_type": "code",
   "execution_count": 18,
   "metadata": {},
   "outputs": [
    {
     "data": {
      "text/plain": [
       "'a'"
      ]
     },
     "execution_count": 18,
     "metadata": {},
     "output_type": "execute_result"
    }
   ],
   "source": [
    "list1[5][2][0]"
   ]
  },
  {
   "cell_type": "code",
   "execution_count": 20,
   "metadata": {},
   "outputs": [
    {
     "name": "stdout",
     "output_type": "stream",
     "text": [
      "Help on list object:\n",
      "\n",
      "class list(object)\n",
      " |  list(iterable=(), /)\n",
      " |  \n",
      " |  Built-in mutable sequence.\n",
      " |  \n",
      " |  If no argument is given, the constructor creates a new empty list.\n",
      " |  The argument must be an iterable if specified.\n",
      " |  \n",
      " |  Methods defined here:\n",
      " |  \n",
      " |  __add__(self, value, /)\n",
      " |      Return self+value.\n",
      " |  \n",
      " |  __contains__(self, key, /)\n",
      " |      Return key in self.\n",
      " |  \n",
      " |  __delitem__(self, key, /)\n",
      " |      Delete self[key].\n",
      " |  \n",
      " |  __eq__(self, value, /)\n",
      " |      Return self==value.\n",
      " |  \n",
      " |  __ge__(self, value, /)\n",
      " |      Return self>=value.\n",
      " |  \n",
      " |  __getattribute__(self, name, /)\n",
      " |      Return getattr(self, name).\n",
      " |  \n",
      " |  __getitem__(...)\n",
      " |      x.__getitem__(y) <==> x[y]\n",
      " |  \n",
      " |  __gt__(self, value, /)\n",
      " |      Return self>value.\n",
      " |  \n",
      " |  __iadd__(self, value, /)\n",
      " |      Implement self+=value.\n",
      " |  \n",
      " |  __imul__(self, value, /)\n",
      " |      Implement self*=value.\n",
      " |  \n",
      " |  __init__(self, /, *args, **kwargs)\n",
      " |      Initialize self.  See help(type(self)) for accurate signature.\n",
      " |  \n",
      " |  __iter__(self, /)\n",
      " |      Implement iter(self).\n",
      " |  \n",
      " |  __le__(self, value, /)\n",
      " |      Return self<=value.\n",
      " |  \n",
      " |  __len__(self, /)\n",
      " |      Return len(self).\n",
      " |  \n",
      " |  __lt__(self, value, /)\n",
      " |      Return self<value.\n",
      " |  \n",
      " |  __mul__(self, value, /)\n",
      " |      Return self*value.\n",
      " |  \n",
      " |  __ne__(self, value, /)\n",
      " |      Return self!=value.\n",
      " |  \n",
      " |  __repr__(self, /)\n",
      " |      Return repr(self).\n",
      " |  \n",
      " |  __reversed__(self, /)\n",
      " |      Return a reverse iterator over the list.\n",
      " |  \n",
      " |  __rmul__(self, value, /)\n",
      " |      Return value*self.\n",
      " |  \n",
      " |  __setitem__(self, key, value, /)\n",
      " |      Set self[key] to value.\n",
      " |  \n",
      " |  __sizeof__(self, /)\n",
      " |      Return the size of the list in memory, in bytes.\n",
      " |  \n",
      " |  append(self, object, /)\n",
      " |      Append object to the end of the list.\n",
      " |  \n",
      " |  clear(self, /)\n",
      " |      Remove all items from list.\n",
      " |  \n",
      " |  copy(self, /)\n",
      " |      Return a shallow copy of the list.\n",
      " |  \n",
      " |  count(self, value, /)\n",
      " |      Return number of occurrences of value.\n",
      " |  \n",
      " |  extend(self, iterable, /)\n",
      " |      Extend list by appending elements from the iterable.\n",
      " |  \n",
      " |  index(self, value, start=0, stop=9223372036854775807, /)\n",
      " |      Return first index of value.\n",
      " |      \n",
      " |      Raises ValueError if the value is not present.\n",
      " |  \n",
      " |  insert(self, index, object, /)\n",
      " |      Insert object before index.\n",
      " |  \n",
      " |  pop(self, index=-1, /)\n",
      " |      Remove and return item at index (default last).\n",
      " |      \n",
      " |      Raises IndexError if list is empty or index is out of range.\n",
      " |  \n",
      " |  remove(self, value, /)\n",
      " |      Remove first occurrence of value.\n",
      " |      \n",
      " |      Raises ValueError if the value is not present.\n",
      " |  \n",
      " |  reverse(self, /)\n",
      " |      Reverse *IN PLACE*.\n",
      " |  \n",
      " |  sort(self, /, *, key=None, reverse=False)\n",
      " |      Sort the list in ascending order and return None.\n",
      " |      \n",
      " |      The sort is in-place (i.e. the list itself is modified) and stable (i.e. the\n",
      " |      order of two equal elements is maintained).\n",
      " |      \n",
      " |      If a key function is given, apply it once to each list item and sort them,\n",
      " |      ascending or descending, according to their function values.\n",
      " |      \n",
      " |      The reverse flag can be set to sort in descending order.\n",
      " |  \n",
      " |  ----------------------------------------------------------------------\n",
      " |  Class methods defined here:\n",
      " |  \n",
      " |  __class_getitem__(...) from builtins.type\n",
      " |      See PEP 585\n",
      " |  \n",
      " |  ----------------------------------------------------------------------\n",
      " |  Static methods defined here:\n",
      " |  \n",
      " |  __new__(*args, **kwargs) from builtins.type\n",
      " |      Create and return a new object.  See help(type) for accurate signature.\n",
      " |  \n",
      " |  ----------------------------------------------------------------------\n",
      " |  Data and other attributes defined here:\n",
      " |  \n",
      " |  __hash__ = None\n",
      "\n"
     ]
    }
   ],
   "source": [
    "help(list1)"
   ]
  },
  {
   "cell_type": "markdown",
   "metadata": {},
   "source": [
    "**Author’s name** : *Zohreh Ghandfrooshan*"
   ]
  }
 ],
 "metadata": {
  "kernelspec": {
   "display_name": "Python 3 (ipykernel)",
   "language": "python",
   "name": "python3"
  },
  "language_info": {
   "codemirror_mode": {
    "name": "ipython",
    "version": 3
   },
   "file_extension": ".py",
   "mimetype": "text/x-python",
   "name": "python",
   "nbconvert_exporter": "python",
   "pygments_lexer": "ipython3",
   "version": "3.9.12"
  }
 },
 "nbformat": 4,
 "nbformat_minor": 4
}
